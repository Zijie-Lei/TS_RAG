{
 "cells": [
  {
   "cell_type": "code",
   "execution_count": 19,
   "metadata": {},
   "outputs": [],
   "source": [
    "from sentence_transformers import SentenceTransformer\n",
    "import json\n",
    "import numpy as np\n",
    "from sklearn.preprocessing import MinMaxScaler"
   ]
  },
  {
   "cell_type": "code",
   "execution_count": 2,
   "metadata": {},
   "outputs": [],
   "source": [
    "file_path = 'data/raw_news_data/bitcoin_news.json'\n",
    "\n",
    "with open(file_path, 'r') as file:\n",
    "    data = json.load(file)"
   ]
  },
  {
   "cell_type": "code",
   "execution_count": 7,
   "metadata": {},
   "outputs": [],
   "source": [
    "short_data = data[:30]\n",
    "model = SentenceTransformer('all-MiniLM-L6-v2')"
   ]
  },
  {
   "cell_type": "code",
   "execution_count": 5,
   "metadata": {},
   "outputs": [],
   "source": [
    "titles = [article['title'] for article in short_data]\n",
    "summaries = [article['summary'] for article in short_data]\n",
    "full_articles = [article['full_article'] for article in short_data]"
   ]
  },
  {
   "cell_type": "code",
   "execution_count": 8,
   "metadata": {},
   "outputs": [],
   "source": [
    "titles_embeddings = model.encode(titles)\n",
    "summaries_embeddings = model.encode(summaries)\n",
    "full_articles_embeddings = model.encode(full_articles)"
   ]
  },
  {
   "cell_type": "code",
   "execution_count": 21,
   "metadata": {},
   "outputs": [
    {
     "name": "stdout",
     "output_type": "stream",
     "text": [
      "Title: Royal Capital Pro Sees Record Purchases of Cryptocurrencies in the Arabian Peninsula\n",
      "Summary: \n",
      "Content: TALLINN, Estonia, January 8, 2018 /PRNewswire/ -- [Royal Capital Pro]( the Arabian Peninsula's leading online trading platform for forex and more than 70 other underlying assets, including indices, commodities and stocks, has announced that its sales of cryptocurrencies have now reached millions of dollars and continue to grow at a whopping rate of 200 percent a month. \"The unprecedented demand is due to the simple fact that bitcoins are simply running out,\" states Nasser Hashem, Chief Broker at Royal Capital Pro. \"The natural response from investors is to purchase as many as they can right now before the last one is sold.\" Bitcoin, the world's first decentralized digital currency, was structured from the start to expand to a finite number of 21 million, but only four million remain to be created. That simple statistic means that their value will continue to increase in reverse proportion to the decreasing number of bitcoins that become available. Given the unprecedented demand, _Asharq al-Awsat_, the world's leading pan-Arab daily newspaper, has begun to list Bitcoin prices alongside those of gold and crude oil on the top banner of its financial pages. \"With its proven record of success, Royal Capital Pro intends to be the primary online cryptocurrency brokerage for residents of Saudi Arabia and the Arab Gulf and enable them to take full advantage of this rare investment opportunity, which will never repeat itself,\" Nasser Hashem added. **Bitcoin, Litecoin** **Ripple** **and Ethereum** Apart from Bitcoin, which was introduced to the global market in 2009, Royal Capital Pro also offers its customer its three leading cryptocurrency competitors − Litecoin, introduced in 2011, Ripple, introduced in 2012 and Ethereum, introduced in 2015. While technologically similar to Bitcoin, Litecoin's advantage is that its block generation time is 2.5 minutes, compared to Bitcoin's 10 minutes. It claims it provides a much faster transaction confirmation as a result. Ripple was the first cryptocurrency that is not based on the Bitcoin protocol. Moreover, it is also a payment network that connects consumers to their trusted contacts. Ethereum is a relatively new platform that features a different and more general scripting language than Bitcoin. According to the Cambridge Centre for Alternative Finance, which issued the world's first global cryptocurrency benchmark study in May 2017, more than three million people worldwide are now actively using digital currency. That figure, which is three-times higher than previous estimates, represents a critical mass that has turned cryptocurrency into an integral part of the global financial system. \"To illustrate the profit potential of cryptocurrency investments, a single bitcoin traded for approximately $960 in January 2017 and topped $10,000 by the end of November,\" Nasser Hashem concludes. \"Royal Capital Pro is ready to lend its experience and expertise to its customers throughout the Arabian Peninsula in order for them to benefit from a final once-in-a-lifetime opportunity.\" **About Royal Capital Pro** [Royal Capital Pro]( is the Arabian Peninsula's go-to broker for online trading. Any investor with a computer and an Internet connection can take full advantage of its services. Its trading platform is dynamic but very user-friendly, and is fully equipped with all of the technical tools that are required to properly analyze global markets. In this way, Royal Capital Pro allows its clients to make the best possible trading decisions. The company employs strict security protocols to ensure monetary safety, and features and provides its customers with an exclusive rewards program to demonstrate its appreciation for their trust. **Back Office **Tel: +442-035-195-194 [support@royalcapitalpro.com](mailto:support@royalcapitalpro.com) [ [Facebook - Royal Capital Pro]( SOURCE Royal Capital Pro\n",
      "Similarity: 0.6699016094207764\n",
      "\n",
      "Title: Forks in the Road: 2017 Bitcoin Forks\n",
      "Summary: \n",
      "Content: 2017 has come and gone, shaking up the cryptocurrency world with a swathe of newcomers interspersed with stellar highs and some sobering price corrections. Bitcoin ended the year having grown over 1,000 percent in value over 12 months. However, that didn’t stop the community [forking]( away from the preeminent currency. These forks had varying degrees of success, as they looked to solve some of the major shortcomings of the original Bitcoin protocol. This mainly comes down to the size limit of Bitcoin’s blocks. As it stands, the size of each block on the Bitcoin Blockchain is 1 mb, which limits the amount of transactions processed each second. Over time, that limit has caused transaction speeds to decline, while payment fees increased as users were forced to pay more to miners to prioritise transactions. Segregated Witness\n",
      "------------------ The cryptocurrency community as a whole grew increasingly frustrated with the issues plaguing the Bitcoin protocol and different solutions have been proposed over the past two years. Segregated Witness grabbed headlines in 2017, proposing two-fold changes to the Bitcoin network. The soft-fork, [which was activated in August 2017]( cuts a Bitcoin transaction data in two, moving the signature or ‘witness’ data to the end of the transaction, effectively reducing the size a transaction takes on a block which speeds up the network. The second proposed change, which was ditched at the eleventh hour, is known as SegWit2x. This is a hard-fork, which would see block sizes increased from 1 mb to 2 mb to allow a greater number of transactions to be stored on the Blockchain. Many of the original signatories of the [New York Agreement]( which comprised of the world’s largest exchanges, miners and wallets, weren’t comfortable with the hard fork coming so soon after SegWit’s activation. That led to the eventual [postponement of SegWit2x]( Bitcoin Cash\n",
      "------------ The decision to drop SegWit2x inevitably caused a rift between two parties. The ‘big blockers’ who were adamant that an increase in block size would further solve scalability, and ‘Core’ who strongly opposed the hard fork solution. This led to the creation of Bitcoin Cash, which forked away from the original Bitcoin Blockchain on Aug. 1, 2017. Bitcoin Cash has been the subject of much debate, as the literal fork has been mirrored by unending debates by parties for and against. The likes of early Bitcoin investor Roger Ver maintains that Bitcoin Cash is the ‘[real Bitcoin]( saying it stays true to [Satoshi Nakamoto]( original whitepaper. Nevertheless, Bitcoin Cash is nearing six months of existence and fears of a [pump and dump situation have subsided]( There are clear differences between the two cryptocurrencies, nevertheless it’s support on exchanges like [Coinbase]( prove that the cryptocurrency is growing in popularity - even [amid controversy of it’s launch on GDAX]( in December 2017. It seems increasingly clear that [Bitcoin Cash]( is here to stay and it’s survival could well end further debate of a proper SegWit2x revival on the Bitcoin Blockchain. The other forks\n",
      "--------------- [Bitcoin Gold]( champions the cause of the everyday mining enthusiast, who dreams of making a steady income mining cryptocurrency with high powered graphics cards (GPU). As their website states, Bitcoin Gold aims to making ‘Bitcoin mining decentralised again.’ By simply diverging from Bitcoin’s proof-of-work algorithm SHA256 to equihash, individual miners using GPUs can mine Bitcoin Gold easily, with mid-range GPUs. The fork took place in October 2017. [Bitcoin Diamond]( is another hard fork from the original Bitcoin Blockchain which took place in November 2017. Created by mining pools Team EVEY and Team 007, BCD will have a total of 210 mln tokens, 10 times as many as Bitcoin and Bitcoin Cash. Bitcoin Diamond mining uses the X13 hashing algorithm, which favors mining using GPUs much like Bitcoin Gold, opposing ASIC miners needed to mine Bitcoin, which are expensive. Trash?\n",
      "------ Almost tongue in cheek, Chinese Blockchain investor Chandler Guo announced the [launch of Bitcoin God in December]( Claiming charitable intentions, holders of Bitcoin would receive their holding of 17 mln tokes, while the remaining four mln tokes of the 21 mln cap would be donated to charity, according the the website. It was ironically due to fork on Dec. 25, 2017 - Christmas Day. We’re taking this one with a pinch of salt. Another intriguing, albeit sketchy fork is the so-called [revival of SegWit2x]( A completely new set of developers have reworked the original SegWit2x code, and the hard fork was announced on Dec. 28. The group have admitted that they have no affiliation to the original developers, and the new fork has made some outlandish promises to supporters of the fork. [As this writer reported]( the project seems far-fetched and it’s progress will be monitored with skeptical eyes over the next couple of weeks. The list goes on\n",
      "---------------- While we’ve narrowed our focus to the four major Bitcoin forks of 2017, namely Bitcoin Cash, Bitcoin Gold, Bitcoin Diamond and Bitcoin God, there are many more hard forks to mention. The list is extensive, including [Bitcoin Clashic]( Super Bitcoin, Bitcoin Hot, Bitcoin X, [Oil Bitcoin]( Bitcoin World, [Lightning Bitcoin]( There are more, with at least 14 forks in December 2017. It’s hard to believe that many of these forks will survive or provide any real value to the wider cryptocurrency community. However, the discourse and ideas generated by developers looking to improve cryptocurrency protocols will inevitably benefit the community and drive the evolution of Blockchain technology into the future.\n",
      "Similarity: 0.6677467226982117\n",
      "\n",
      "Title: China on the verge of bursting bitcoin bubble\n",
      "Summary: \n",
      "Content: China’s regulatory clampdown on cryptocurrencies is sparking a mass exodus of bitcoin miners from the country, which has the potential to radically alter both global bitcoin and energy markets. According to a document leaked online, China’s internet-finance regulator has recommended that local governments squeeze bitcoin miners out of the country through electricity pricing, taxation, property law and environmental regulations. Until now, Chinese miners have capitalized on cheap, coal-fired electricity in regions such as Xinjiang and Inner Mongolia. The document calls for monthly reports on remaining bitcoin-mining operations in each region. _“Currently, there are some so-called ‘mining’ enterprises that produce ‘virtual currencies.’ They have consumed huge amounts of resources and stoked speculation of ‘virtual currencies,’”_ states the document, which is dated January 2. It is purportedly from the Leading Group of Internet Financial Risks Remediation – the internet-finance regulator in China – and was cited by Quartz. The news is likely to trigger an immediate dip in bitcoin mining, which could create a shortage that would have a knock-on effect on prices, potentially leading to yet another price spike. The shift to more globally distributed mining operations may also drastically influence peak times for transactions, with a corresponding hike in transaction fees likely until the industry adjusts to the new dynamic. China was once a driving force behind cryptocurrency mining, and accounted for more than two-thirds of the world’s bitcoin-mining operations until recently. The Chinese government previously banned initial coin offerings and halted trading of virtual currencies on local exchanges for a period in 2017. Bitmain, which controls China’s two largest bitcoin-mining pools, is setting up headquarters in Singapore, and has launched mining operations in the US and Canada, according to the company’s co-founder Wu Jihan, as quoted by Bloomberg. BTC.Top, the third-biggest player in the Chinese bitcoin-mining scene is reportedly also opening a facility in Canada, while ViaBTC – number four in the rankings – has already started operations in Iceland and the US. Transactions involving cryptocurrencies will not be significantly affected. However, the exodus of miners to locations as disparate as Iceland and Iran, or Canada and Russia, may potentially challenge the sector, which relies on energy-intensive computer networks to enable buying and selling. _“We chose Canada because of the relatively cheap cost, and the stability of the country and policies,”_ Jiang Zhuoer, founder of BTC.Top, said in an interview with Bloomberg. **_For more stories on economy & finance visit [RT's business section](\n",
      "Similarity: 0.6437768936157227\n",
      "\n"
     ]
    }
   ],
   "source": [
    "query = \"Give information about latest bitcoin news\"\n",
    "query_embedding = model.encode(query)\n",
    "\n",
    "\n",
    "# Compute similarity scores for full articles, titles, and summaries\n",
    "full_articles_similarities = [model.similarity(query_embedding, emb) for emb in full_articles_embeddings]\n",
    "titles_similarities = [model.similarity(query_embedding, emb) for emb in titles_embeddings]\n",
    "summaries_similarities = [model.similarity(query_embedding, emb) for emb in summaries_embeddings]\n",
    "\n",
    "# Normalize the similarity scores\n",
    "scaler = MinMaxScaler()\n",
    "full_articles_similarities = scaler.fit_transform(np.array(full_articles_similarities).reshape(-1, 1)).flatten()\n",
    "titles_similarities = scaler.fit_transform(np.array(titles_similarities).reshape(-1, 1)).flatten()\n",
    "summaries_similarities = scaler.fit_transform(np.array(summaries_similarities).reshape(-1, 1)).flatten()\n",
    "\n",
    "# Combine the normalized scores using a weighted sum\n",
    "weights = {'full_articles': 0.5, 'titles': 0.3, 'summaries': 0.2}\n",
    "combined_scores = (weights['full_articles'] * full_articles_similarities +\n",
    "                   weights['titles'] * titles_similarities +\n",
    "                   weights['summaries'] * summaries_similarities)\n",
    "\n",
    "# Retrieve the top-k elements based on the combined scores\n",
    "k = 3\n",
    "top_k_indices = np.argsort(combined_scores)[-k:][::-1]\n",
    "top_k_similarities = [(titles[i], summaries[i], full_articles[i], combined_scores[i]) for i in top_k_indices]\n",
    "\n",
    "# Print the top-k results\n",
    "for title, summary, article, similarity in top_k_similarities:\n",
    "    print(f\"Title: {title}\")\n",
    "    print(f\"Summary: {summary}\")\n",
    "    print(f\"Content: {article}\")\n",
    "    print(f\"Similarity: {similarity}\\n\")\n"
   ]
  }
 ],
 "metadata": {
  "kernelspec": {
   "display_name": "time_series_RAG",
   "language": "python",
   "name": "python3"
  },
  "language_info": {
   "codemirror_mode": {
    "name": "ipython",
    "version": 3
   },
   "file_extension": ".py",
   "mimetype": "text/x-python",
   "name": "python",
   "nbconvert_exporter": "python",
   "pygments_lexer": "ipython3",
   "version": "3.13.1"
  }
 },
 "nbformat": 4,
 "nbformat_minor": 2
}
